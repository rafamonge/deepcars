{
 "cells": [
  {
   "cell_type": "code",
   "execution_count": 22,
   "metadata": {
    "collapsed": false
   },
   "outputs": [
    {
     "name": "stdout",
     "output_type": "stream",
     "text": [
      "Index 0 should return 1\n",
      "Index 1 should return 2\n"
     ]
    },
    {
     "data": {
      "text/plain": [
       "<map at 0x21c4829c550>"
      ]
     },
     "execution_count": 22,
     "metadata": {},
     "output_type": "execute_result"
    }
   ],
   "source": [
    "a = [1,2]\n",
    "\n",
    "class SuperDuperList(list):\n",
    "    def getindexdefault(self, elem, default):\n",
    "        try:\n",
    "            thing_index = self[elem]\n",
    "            return thing_index\n",
    "        except ValueError:\n",
    "            return default\n",
    "        \n",
    "        \n",
    "aa = SuperDuperList(a)\n",
    "print(\"Index 0 should return 1\")\n",
    "aa.getindexdefault(0,\"This is the default value that will be returned when  the index does not exist\")\n",
    "\n",
    "\n",
    "print(\"Index 1 should return 2\")\n",
    "aa.getindexdefault(1,\"This is the default value that will be returned when  the index does not exist\")\n",
    "\n",
    "map(lambda x:x.getindexdefault(0, \"1\"), a)"
   ]
  }
 ],
 "metadata": {
  "kernelspec": {
   "display_name": "Python 3",
   "language": "python",
   "name": "python3"
  },
  "language_info": {
   "codemirror_mode": {
    "name": "ipython",
    "version": 3
   },
   "file_extension": ".py",
   "mimetype": "text/x-python",
   "name": "python",
   "nbconvert_exporter": "python",
   "pygments_lexer": "ipython3",
   "version": "3.5.2"
  }
 },
 "nbformat": 4,
 "nbformat_minor": 2
}
