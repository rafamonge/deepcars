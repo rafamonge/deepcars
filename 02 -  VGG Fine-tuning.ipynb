{
 "cells": [
  {
   "cell_type": "markdown",
   "metadata": {
    "deletable": true,
    "editable": true
   },
   "source": [
    "# Tutorial: Fine-tuning VGG on CIFAR-10\n",
    "\n",
    "One of the most common questions we get is how to use neon to load a pre-trained model and fine-tune on a new dataset. In this tutorial, we show how to load a pre-trained convolutional neural network (VGG), which was trained on ImageNet, a large corpus of natural images with 1000 categories. We will then use this model to train on the CIFAR-10 dataset, a much smaller set of images with 10 categories.\n",
    "\n",
    "We begin by first generating a computational backend with the `gen_backend` function from neon. If there is a GPU available (recommended), this function will generate a GPU backend. Otherwise, a CPU backend will be used.\n",
    "\n",
    "**Note: VGG will not fit on a Kepler GPU, so here we use CPU backend for instructional purposes. If you are running on a Maxwell+ GPU, switch the backend to gpu below.**"
   ]
  },
  {
   "cell_type": "code",
   "execution_count": 8,
   "metadata": {
    "collapsed": false,
    "deletable": true,
    "editable": true
   },
   "outputs": [],
   "source": [
    "from neon.backends import gen_backend\n",
    "from neon.data.aeon_shim import AeonDataLoader\n",
    "from neon.data.dataloader_transformers import OneHot, TypeCast, BGRMeanSubtract\n",
    "from neon.transforms import Rectlin\n",
    "from neon.initializers import Constant, Xavier\n",
    "from neon.layers import Conv, Dropout, Pooling, GeneralizedCost, Affine\n",
    "from neon.initializers import GlorotUniform\n",
    "from neon.transforms import Softmax\n",
    "from neon.models import Model\n",
    "from neon.data.datasets import Dataset\n",
    "from neon.util.persist import load_obj\n",
    "from neon.optimizers import GradientDescentMomentum, Schedule, MultiOptimizer\n",
    "from neon.transforms import CrossEntropyMulti\n",
    "from neon.callbacks.callbacks import Callbacks\n",
    "from neon.transforms import Misclassification\n",
    "import neon\n",
    "import numpy as np\n",
    "import os\n",
    "\n",
    "\n"
   ]
  },
  {
   "cell_type": "code",
   "execution_count": null,
   "metadata": {
    "collapsed": true
   },
   "outputs": [],
   "source": [
    "be = gen_backend(batch_size=64, backend='gpu')"
   ]
  },
  {
   "cell_type": "markdown",
   "metadata": {
    "deletable": true,
    "editable": true
   },
   "source": [
    "We can inspect the backend via:"
   ]
  },
  {
   "cell_type": "code",
   "execution_count": 2,
   "metadata": {
    "collapsed": false,
    "deletable": true,
    "editable": true
   },
   "outputs": [
    {
     "name": "stdout",
     "output_type": "stream",
     "text": [
      "<neon.backends.nervanagpu.NervanaGPU object at 0x7f96d8572750>\n"
     ]
    }
   ],
   "source": [
    "print be"
   ]
  },
  {
   "cell_type": "markdown",
   "metadata": {
    "deletable": true,
    "editable": true
   },
   "source": [
    "## Defining the VGG Model\n",
    "We begin by first generating our VGG network. [VGG](http://www.robots.ox.ac.uk/~vgg/research/very_deep/) is a popular convolutional neural network with ~19 layers. Not only does this network perform well with fine-tuning, but is also easy to define since the convolutional layers all have 3x3 filter sizes, and only differ in the number of feature maps. \n",
    "\n",
    "We first define some common parameters used by all the convolution layers:"
   ]
  },
  {
   "cell_type": "code",
   "execution_count": 2,
   "metadata": {
    "collapsed": false,
    "deletable": true,
    "editable": true
   },
   "outputs": [],
   "source": [
    "\n",
    "\n",
    "relu = Rectlin()\n",
    "conv_params = {'strides': 1,\n",
    "               'padding': 1,\n",
    "               'init': Xavier(local=True),\n",
    "               'bias': Constant(0),\n",
    "               'activation': relu}"
   ]
  },
  {
   "cell_type": "markdown",
   "metadata": {
    "deletable": true,
    "editable": true
   },
   "source": [
    "Then, we can define our network as a list of layers:"
   ]
  },
  {
   "cell_type": "code",
   "execution_count": 4,
   "metadata": {
    "collapsed": false,
    "deletable": true,
    "editable": true
   },
   "outputs": [],
   "source": [
    "\n",
    "\n",
    "\n",
    "# Set up the model layers\n",
    "vgg_layers = []\n",
    "\n",
    "# set up 3x3 conv stacks with different number of filters\n",
    "vgg_layers.append(Conv((3, 3, 64), **conv_params))\n",
    "vgg_layers.append(Conv((3, 3, 64), **conv_params))\n",
    "vgg_layers.append(Pooling(2, strides=2))\n",
    "vgg_layers.append(Conv((3, 3, 128), **conv_params))\n",
    "vgg_layers.append(Conv((3, 3, 128), **conv_params))\n",
    "vgg_layers.append(Pooling(2, strides=2))\n",
    "vgg_layers.append(Conv((3, 3, 256), **conv_params))\n",
    "vgg_layers.append(Conv((3, 3, 256), **conv_params))\n",
    "vgg_layers.append(Conv((3, 3, 256), **conv_params))\n",
    "vgg_layers.append(Pooling(2, strides=2))\n",
    "vgg_layers.append(Conv((3, 3, 512), **conv_params))\n",
    "vgg_layers.append(Conv((3, 3, 512), **conv_params))\n",
    "vgg_layers.append(Conv((3, 3, 512), **conv_params))\n",
    "vgg_layers.append(Pooling(2, strides=2))\n",
    "vgg_layers.append(Conv((3, 3, 512), **conv_params))\n",
    "vgg_layers.append(Conv((3, 3, 512), **conv_params))\n",
    "vgg_layers.append(Conv((3, 3, 512), **conv_params))\n",
    "vgg_layers.append(Pooling(2, strides=2))\n",
    "vgg_layers.append(Affine(nout=4096, init=GlorotUniform(), bias=Constant(0), activation=relu))\n",
    "vgg_layers.append(Dropout(keep=0.5))\n",
    "vgg_layers.append(Affine(nout=4096, init=GlorotUniform(), bias=Constant(0), activation=relu))\n",
    "vgg_layers.append(Dropout(keep=0.5))"
   ]
  },
  {
   "cell_type": "markdown",
   "metadata": {
    "deletable": true,
    "editable": true
   },
   "source": [
    "The last layer of VGG is an `Affine` layer with 1000 units, for the 1000 categories in the ImageNet dataset. However, since our dataset only has 10 classes, we will instead use 10 output units. We also give this layer a special name (`class_layer`) so we know not to load pre-trained weights for this layer."
   ]
  },
  {
   "cell_type": "code",
   "execution_count": 5,
   "metadata": {
    "collapsed": false,
    "deletable": true,
    "editable": true
   },
   "outputs": [],
   "source": [
    "\n",
    "\n",
    "vgg_layers.append(Affine(nout=10, init=GlorotUniform(), bias=Constant(0), activation=Softmax(),\n",
    "                  name=\"class_layer\"))"
   ]
  },
  {
   "cell_type": "markdown",
   "metadata": {
    "deletable": true,
    "editable": true
   },
   "source": [
    "Now we are ready to load the pre-trained weights into this model. First we generate a `Model` object to hold the VGG layers:"
   ]
  },
  {
   "cell_type": "code",
   "execution_count": 6,
   "metadata": {
    "collapsed": false,
    "deletable": true,
    "editable": true
   },
   "outputs": [],
   "source": [
    "\n",
    "\n",
    "model = Model(layers=vgg_layers)"
   ]
  },
  {
   "cell_type": "markdown",
   "metadata": {
    "deletable": true,
    "editable": true
   },
   "source": [
    "## Loading pre-trained weights\n",
    "Next, we download the pre-trained VGG weights from our [Model Zoo](https://github.com/NervanaSystems/ModelZoo/tree/master/ImageClassification/ILSVRC2012/VGG). Note: this file is quite large (~550MB). By default, the weights file is saved in your home directory. To change this, or if you have already downloaded the file somewhere else, please edit the `filepath` variable below."
   ]
  },
  {
   "cell_type": "code",
   "execution_count": 7,
   "metadata": {
    "collapsed": false,
    "deletable": true,
    "editable": true
   },
   "outputs": [
    {
     "name": "stdout",
     "output_type": "stream",
     "text": [
      "Loading VGG weights from /notebook/data/VGG_D.p...\n",
      "Done!\n"
     ]
    }
   ],
   "source": [
    "\n",
    "# location and size of the VGG weights file\n",
    "url = 'https://s3-us-west-1.amazonaws.com/nervana-modelzoo/VGG/'\n",
    "filename = 'VGG_D.p'\n",
    "size = 554227541\n",
    "\n",
    "# edit filepath below if you have the file elsewhere\n",
    "filepath = \"/notebook/data/VGG_D.p\"\n",
    "#_, filepath = Dataset._valid_path_append('data', '', filename)\n",
    "#if not os.path.exists(filepath):\n",
    "#    Dataset.fetch_dataset(url, filename, filepath, size)\n",
    "\n",
    "# load the weights param file\n",
    "print(\"Loading VGG weights from {}...\".format(filepath))\n",
    "trained_vgg = load_obj(filepath)\n",
    "print(\"Done!\")"
   ]
  },
  {
   "cell_type": "markdown",
   "metadata": {
    "collapsed": true,
    "deletable": true,
    "editable": true
   },
   "source": [
    "In neon, models are saved as python dictionaries. Below are some example calls to explore the model. You can examine the weights, the layer configuration, and more."
   ]
  },
  {
   "cell_type": "code",
   "execution_count": 8,
   "metadata": {
    "collapsed": false,
    "deletable": true,
    "editable": true
   },
   "outputs": [
    {
     "name": "stdout",
     "output_type": "stream",
     "text": [
      "The dictionary has the following keys: ['neon_version', 'model', 'epoch_index', 'backend']\n",
      "The first layer is of type: neon.layers.layer.Convolution\n",
      "The first layer weights have average magnitude of 0.17\n"
     ]
    }
   ],
   "source": [
    "print(\"The dictionary has the following keys: {}\".format(trained_vgg.keys()))\n",
    "\n",
    "layer0 = trained_vgg['model']['config']['layers'][0]\n",
    "print(\"The first layer is of type: {}\".format(layer0['type']))\n",
    "\n",
    "# filter weights of the first layer\n",
    "W = layer0['params']['W']\n",
    "print(\"The first layer weights have average magnitude of {:.2}\".format(abs(W).mean()))"
   ]
  },
  {
   "cell_type": "markdown",
   "metadata": {
    "deletable": true,
    "editable": true
   },
   "source": [
    "We encourage you to use the below blank code cell to explore the model dictionary! "
   ]
  },
  {
   "cell_type": "code",
   "execution_count": null,
   "metadata": {
    "collapsed": false,
    "deletable": true,
    "editable": true
   },
   "outputs": [],
   "source": []
  },
  {
   "cell_type": "markdown",
   "metadata": {
    "deletable": true,
    "editable": true
   },
   "source": [
    "We then iterate over the layers in our model, and load the weights from `trained_vgg` using each layers' `layer.load_weights` method. The final Affine layer is different between our model and the pre-trained model, since the number of classes have changed. Therefore, we break the loop when we encounter the final Affine layer, which has the name `class_layer`."
   ]
  },
  {
   "cell_type": "code",
   "execution_count": 9,
   "metadata": {
    "collapsed": false,
    "deletable": true,
    "editable": true
   },
   "outputs": [
    {
     "name": "stdout",
     "output_type": "stream",
     "text": [
      "Convolution_0, conv1_1\n",
      "Convolution_0_bias, conv1_1_bias\n",
      "Convolution_0_Rectlin, Convolution_0_Rectlin\n",
      "Convolution_1, conv1_2\n",
      "Convolution_1_bias, conv1_2_bias\n",
      "Convolution_1_Rectlin, Convolution_1_Rectlin\n",
      "Pooling_0, Pooling_0\n",
      "Convolution_2, conv2_1\n",
      "Convolution_2_bias, conv2_1_bias\n",
      "Convolution_2_Rectlin, Convolution_2_Rectlin\n",
      "Convolution_3, conv2_2\n",
      "Convolution_3_bias, conv2_2_bias\n",
      "Convolution_3_Rectlin, Convolution_3_Rectlin\n",
      "Pooling_1, Pooling_1\n",
      "Convolution_4, conv3_1\n",
      "Convolution_4_bias, conv3_1_bias\n",
      "Convolution_4_Rectlin, Convolution_4_Rectlin\n",
      "Convolution_5, conv3_2\n",
      "Convolution_5_bias, conv3_2_bias\n",
      "Convolution_5_Rectlin, Convolution_5_Rectlin\n",
      "Convolution_6, conv3_3\n",
      "Convolution_6_bias, conv3_3_bias\n",
      "Convolution_6_Rectlin, Convolution_6_Rectlin\n",
      "Pooling_2, Pooling_2\n",
      "Convolution_7, conv4_1\n",
      "Convolution_7_bias, conv4_1_bias\n",
      "Convolution_7_Rectlin, Convolution_7_Rectlin\n",
      "Convolution_8, conv4_2\n",
      "Convolution_8_bias, conv4_2_bias\n",
      "Convolution_8_Rectlin, Convolution_8_Rectlin\n",
      "Convolution_9, conv4_3\n",
      "Convolution_9_bias, conv4_3_bias\n",
      "Convolution_9_Rectlin, Convolution_9_Rectlin\n",
      "Pooling_3, Pooling_3\n",
      "Convolution_10, conv5_1\n",
      "Convolution_10_bias, conv5_1_bias\n",
      "Convolution_10_Rectlin, Convolution_10_Rectlin\n",
      "Convolution_11, conv5_2\n",
      "Convolution_11_bias, conv5_2_bias\n",
      "Convolution_11_Rectlin, Convolution_11_Rectlin\n",
      "Convolution_12, conv5_3\n",
      "Convolution_12_bias, conv5_3_bias\n",
      "Convolution_12_Rectlin, Convolution_12_Rectlin\n",
      "Pooling_4, Pooling_4\n",
      "Linear_0, fc6\n",
      "Linear_0_bias, fc6_bias\n",
      "Linear_0_Rectlin, Linear_0_Rectlin\n",
      "Dropout_0, Dropout_0\n",
      "Linear_1, fc7\n",
      "Linear_1_bias, fc7_bias\n",
      "Linear_1_Rectlin, Linear_1_Rectlin\n",
      "Dropout_1, Dropout_1\n"
     ]
    }
   ],
   "source": [
    "param_layers = [l for l in model.layers.layers]\n",
    "param_dict_list = trained_vgg['model']['config']['layers']\n",
    "for layer, params in zip(param_layers, param_dict_list):\n",
    "    if(layer.name == 'class_layer'):\n",
    "        break\n",
    "\n",
    "    # To be sure, we print the name of the layer in our model \n",
    "    # and the name in the vgg model.\n",
    "    print(layer.name + \", \" + params['config']['name'])\n",
    "    layer.load_weights(params, load_states=True)"
   ]
  },
  {
   "cell_type": "markdown",
   "metadata": {
    "deletable": true,
    "editable": true
   },
   "source": [
    "As a check, the above code should have printed out pairs of layer names, from our model and the pre-trained vgg models. The exact name may differ, but the type of layer and layer number should match between the two.\n",
    "\n",
    "## Fine-tuning VGG on the CIFAR-10 dataset\n",
    "Now that we've modified the model for our new CIFAR-10 dataset, and loaded the model weights, let's give training a try!\n",
    "\n",
    "## Aeon Dataloader\n",
    "The CIFAR-10 dataset is small enough to fit into memory, meaning that we would normally use an `ArrayIterator` to generate our dataset. However, the CIFAR-10 images are 28x28, and VGG was trained on ImageNet, which ahs images that are of 224x224 size. For this reason, we use our macrobatching dataloader [aeon](http://aeon.nervanasys.com/), which performs image scaling and cropping on-the-fly. \n",
    "\n",
    "To prepare the data, we first invoke an ingestion script that downloads the data and creates the macrobatches. The script is located in your neon folder. Here we use some python language to extract the path to neon from the virtual environment. "
   ]
  },
  {
   "cell_type": "code",
   "execution_count": 10,
   "metadata": {
    "collapsed": false,
    "deletable": true,
    "editable": true
   },
   "outputs": [
    {
     "name": "stdout",
     "output_type": "stream",
     "text": [
      "Found path to neon as /notebook/code/neon\n"
     ]
    }
   ],
   "source": [
    "\n",
    "neon_path = os.path.split(os.path.dirname(neon.__file__))[0]\n",
    "neon_path = \"/notebook/code/neon\"\n",
    "print \"Found path to neon as {}\".format(neon_path)"
   ]
  },
  {
   "cell_type": "markdown",
   "metadata": {
    "deletable": true,
    "editable": true
   },
   "source": [
    "Then we execute the ingestion script below"
   ]
  },
  {
   "cell_type": "code",
   "execution_count": 11,
   "metadata": {
    "collapsed": false,
    "deletable": true,
    "editable": true
   },
   "outputs": [
    {
     "name": "stdout",
     "output_type": "stream",
     "text": [
      "Manifest files written to:\n",
      "/notebook/data/cifar10/train-index.csv\n",
      "/notebook/data/cifar10/val-index.csv\n"
     ]
    }
   ],
   "source": [
    "%run $neon_path/examples/cifar10_msra/data.py --out_dir /notebook/data/cifar10/"
   ]
  },
  {
   "cell_type": "markdown",
   "metadata": {
    "deletable": true,
    "editable": true
   },
   "source": [
    "### Aeon configuration\n",
    "\n",
    "Aeon allows a diverse set of configurations to specify which transformations are applied on-the-fly during training. These configs are specific as python dictionaries. For more detail, see the [aeon documentation](aeon.nervanasys.com)."
   ]
  },
  {
   "cell_type": "code",
   "execution_count": 12,
   "metadata": {
    "collapsed": false,
    "deletable": true,
    "editable": true
   },
   "outputs": [],
   "source": [
    "config = {\n",
    "    'manifest_filename': '/notebook/data/cifar10/train-index.csv',  # CSV manifest of data\n",
    "    'manifest_root': '/notebook/data/cifar10',  # root data directory\n",
    "    'image': {'height': 224, 'width': 224,  # output image size \n",
    "              'scale': [0.875, 0.875],  # random scaling of image before cropping\n",
    "              'flip_enable': True},  # randomly flip image\n",
    "    'type': 'image,label',  # type of data\n",
    "    'minibatch_size': be.bsz  # batch size\n",
    "}"
   ]
  },
  {
   "cell_type": "markdown",
   "metadata": {
    "deletable": true,
    "editable": true
   },
   "source": [
    "We then use this configuration to create our dataloader. The outputs from the dataloader are then sent through a series of transformations."
   ]
  },
  {
   "cell_type": "code",
   "execution_count": 13,
   "metadata": {
    "collapsed": false,
    "deletable": true,
    "editable": true
   },
   "outputs": [],
   "source": [
    "\n",
    "\n",
    "train_set = AeonDataLoader(config, be)\n",
    "\n",
    "train_set = OneHot(train_set, index=1, nclasses=10)  # perform onehot on the labels\n",
    "train_set = TypeCast(train_set, index=0, dtype=np.float32)  # cast the image to float32\n",
    "train_set = BGRMeanSubtract(train_set, index=0)  # subtract image color means (based on default values)"
   ]
  },
  {
   "cell_type": "markdown",
   "metadata": {
    "collapsed": true,
    "deletable": true,
    "editable": true
   },
   "source": [
    "## Optimizer configuration\n",
    "\n",
    "For fine-tuning, we want the final `Affine` layer to be updated with a higher learning rate compared to the pre-trained weights throughout the rest of the network."
   ]
  },
  {
   "cell_type": "code",
   "execution_count": 14,
   "metadata": {
    "collapsed": false,
    "deletable": true,
    "editable": true
   },
   "outputs": [],
   "source": [
    "\n",
    "# define different optimizers for the class_layer and the rest of the network\n",
    "# we use a momentum coefficient of 0.9 and weight decay of 0.0005.\n",
    "opt_vgg = GradientDescentMomentum(0.001, 0.9, wdecay=0.0005)\n",
    "opt_class_layer = GradientDescentMomentum(0.01, 0.9, wdecay=0.0005)\n",
    "\n",
    "# also define optimizers for the bias layers, which have a different learning rate\n",
    "# and not weight decay.\n",
    "opt_bias = GradientDescentMomentum(0.002, 0.9)\n",
    "opt_bias_class = GradientDescentMomentum(0.02, 0.9)\n",
    "\n",
    "# set up the mapping of layers to optimizers\n",
    "opt = MultiOptimizer({'default': opt_vgg, 'Bias': opt_bias,\n",
    "     'class_layer': opt_class_layer, 'class_layer_bias': opt_bias_class})\n",
    "\n",
    "# use cross-entropy cost to train the network\n",
    "cost = GeneralizedCost(costfunc=CrossEntropyMulti())"
   ]
  },
  {
   "cell_type": "markdown",
   "metadata": {
    "deletable": true,
    "editable": true
   },
   "source": [
    "Finally, we set up callbacks so the model can report progress during training, and then run the `model.fit` function. Note that if you are on a CPU, this next section will take long to finish for you to see results."
   ]
  },
  {
   "cell_type": "code",
   "execution_count": 15,
   "metadata": {
    "collapsed": false,
    "deletable": true,
    "editable": true
   },
   "outputs": [
    {
     "name": "stdout",
     "output_type": "stream",
     "text": [
      "Epoch 0   [Train |████████████████████|  782/782  batches, 0.27 cost, 684.25s]\n",
      "Epoch 1   [Train |████████████████████|  781/781  batches, 0.21 cost, 685.80s]\n",
      "Epoch 2   [Train |████████████████████|  781/781  batches, 0.14 cost, 686.09s]\n",
      "Epoch 3   [Train |████████████████████|  781/781  batches, 0.08 cost, 685.93s]\n",
      "Epoch 4   [Train |████████████████████|  782/782  batches, 0.06 cost, 686.98s]\n",
      "Epoch 5   [Train |████████████████████|  781/781  batches, 0.05 cost, 686.47s]\n",
      "Epoch 6   [Train |████████████████████|  781/781  batches, 0.05 cost, 686.29s]\n",
      "Epoch 7   [Train |████████████████████|  781/781  batches, 0.04 cost, 686.34s]\n",
      "Epoch 8   [Train |████████████████████|  782/782  batches, 0.06 cost, 687.31s]\n",
      "Epoch 9   [Train |████████████████████|  781/781  batches, 0.04 cost, 686.05s]\n"
     ]
    }
   ],
   "source": [
    "\n",
    "\n",
    "callbacks = Callbacks(model)\n",
    "model.fit(train_set, optimizer=opt, num_epochs=10, cost=cost, callbacks=callbacks)\n"
   ]
  },
  {
   "cell_type": "markdown",
   "metadata": {},
   "source": [
    "# validation set"
   ]
  },
  {
   "cell_type": "code",
   "execution_count": 3,
   "metadata": {
    "collapsed": true
   },
   "outputs": [],
   "source": [
    "config = {\n",
    "    'manifest_filename': '/notebook/data/cifar10/val-index.csv',  # CSV manifest of data\n",
    "    'manifest_root': '/notebook/data/cifar10',  # root data directory\n",
    "    'image': {'height': 224, 'width': 224,  # output image size \n",
    "              'scale': [0.875, 0.875],  # random scaling of image before cropping\n",
    "              'flip_enable': True},  # randomly flip image\n",
    "    'type': 'image,label',  # type of data\n",
    "    'minibatch_size': be.bsz  # batch size\n",
    "}"
   ]
  },
  {
   "cell_type": "code",
   "execution_count": 9,
   "metadata": {
    "collapsed": false
   },
   "outputs": [],
   "source": [
    "validation_set = AeonDataLoader(config, be)\n",
    "\n",
    "validation_set = OneHot(validation_set, index=1, nclasses=10)  # perform onehot on the labels\n",
    "validation_set = TypeCast(validation_set, index=0, dtype=np.float32)  # cast the image to float32\n",
    "validation_set = BGRMeanSubtract(validation_set, index=0)  # subtract image color means (based on default values)"
   ]
  },
  {
   "cell_type": "code",
   "execution_count": null,
   "metadata": {
    "collapsed": true
   },
   "outputs": [],
   "source": []
  },
  {
   "cell_type": "code",
   "execution_count": 10,
   "metadata": {
    "collapsed": false
   },
   "outputs": [
    {
     "ename": "NameError",
     "evalue": "name 'model' is not defined",
     "output_type": "error",
     "traceback": [
      "\u001b[1;31m\u001b[0m",
      "\u001b[1;31mNameError\u001b[0mTraceback (most recent call last)",
      "\u001b[1;32m<ipython-input-10-31d2ada2388d>\u001b[0m in \u001b[0;36m<module>\u001b[1;34m()\u001b[0m\n\u001b[0;32m      2\u001b[0m \u001b[1;33m\u001b[0m\u001b[0m\n\u001b[0;32m      3\u001b[0m \u001b[1;31m# evaluate the model on test_set using the misclassification metric\u001b[0m\u001b[1;33m\u001b[0m\u001b[1;33m\u001b[0m\u001b[0m\n\u001b[1;32m----> 4\u001b[1;33m \u001b[0merror\u001b[0m \u001b[1;33m=\u001b[0m \u001b[0mmodel\u001b[0m\u001b[1;33m.\u001b[0m\u001b[0meval\u001b[0m\u001b[1;33m(\u001b[0m\u001b[0mvalidation_set\u001b[0m\u001b[1;33m,\u001b[0m \u001b[0mmetric\u001b[0m\u001b[1;33m=\u001b[0m\u001b[0mMisclassification\u001b[0m\u001b[1;33m(\u001b[0m\u001b[1;33m)\u001b[0m\u001b[1;33m)\u001b[0m\u001b[1;33m*\u001b[0m\u001b[1;36m100\u001b[0m\u001b[1;33m\u001b[0m\u001b[0m\n\u001b[0m\u001b[0;32m      5\u001b[0m \u001b[1;32mprint\u001b[0m\u001b[1;33m(\u001b[0m\u001b[1;34m'Misclassification error = %.1f%%'\u001b[0m \u001b[1;33m%\u001b[0m \u001b[0merror\u001b[0m\u001b[1;33m)\u001b[0m\u001b[1;33m\u001b[0m\u001b[0m\n",
      "\u001b[1;31mNameError\u001b[0m: name 'model' is not defined"
     ]
    }
   ],
   "source": [
    "\n",
    "\n",
    "# evaluate the model on test_set using the misclassification metric\n",
    "error = model.eval(validation_set, metric=Misclassification())*100\n",
    "print('Misclassification error = %.1f%%' % error)"
   ]
  },
  {
   "cell_type": "markdown",
   "metadata": {},
   "source": [
    "# saving the model"
   ]
  },
  {
   "cell_type": "code",
   "execution_count": null,
   "metadata": {
    "collapsed": true
   },
   "outputs": [],
   "source": [
    "model.save_params(\"cifar10_model.prm\")"
   ]
  },
  {
   "cell_type": "markdown",
   "metadata": {},
   "source": [
    "# loading the saved model  "
   ]
  },
  {
   "cell_type": "code",
   "execution_count": 11,
   "metadata": {
    "collapsed": false
   },
   "outputs": [
    {
     "name": "stdout",
     "output_type": "stream",
     "text": [
      "Misclassification error = 5.8%\n"
     ]
    }
   ],
   "source": [
    "model2 = Model(\"cifar10_model.prm\")\n",
    "error = model2.eval(validation_set, metric=Misclassification())*100\n",
    "print('Misclassification error = %.1f%%' % error)"
   ]
  },
  {
   "cell_type": "markdown",
   "metadata": {
    "deletable": true,
    "editable": true
   },
   "source": [
    "You should see the network cost decrease over the course of training as it fine-tunes on this new dataset.\n",
    "\n",
    "## Customize for your own data\n",
    "With neon it is easy to adapt this notebook to fine-tune on your own dataset -- most of the code above can be reused regardless of your specific problem. There just a few things to do:\n",
    "1. Organize your image dataset into a format that our macrobatching loader recognizes. Run our `batch_writer.py` script to generate the macrobatches. See [Macrobatching](http://neon.nervanasys.com/docs/latest/loading_data.html#macrobatching) in our documentation for more information.\n",
    "2. Modify the number of output units in the last `Affine` layer of the network to match the number of categories in your dataset.\n",
    "\n",
    "Feel free to visit our [github](https://github.com/NervanaSystems/neon/) page or our [documention](http://neon.nervanasys.com/docs/latest/index.html) if you have questions!"
   ]
  }
 ],
 "metadata": {
  "kernelspec": {
   "display_name": "Python 2",
   "language": "python",
   "name": "python2"
  },
  "language_info": {
   "codemirror_mode": {
    "name": "ipython",
    "version": 2
   },
   "file_extension": ".py",
   "mimetype": "text/x-python",
   "name": "python",
   "nbconvert_exporter": "python",
   "pygments_lexer": "ipython2",
   "version": "2.7.6"
  }
 },
 "nbformat": 4,
 "nbformat_minor": 0
}
